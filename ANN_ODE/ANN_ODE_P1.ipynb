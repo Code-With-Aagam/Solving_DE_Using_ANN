{
 "cells": [
  {
   "cell_type": "markdown",
   "id": "250b8033-dd8a-4cb5-9eef-cc48a4ad2e7f",
   "metadata": {},
   "source": [
    "## Example 1 – Problem Setup \n",
    "\n",
    "**Given ODE:**\n",
    "$$\\frac{d\\psi}{dx} + \\left(x + \\frac{1 + 3x^2}{1 + x + x^3} \\right)\\psi = x^3 + 2x + x^2 \\cdot \\frac{1 + 3x^2}{1 + x + x^3}$$\n",
    "\n",
    "**Initial Condition:**\n",
    "$$\\psi(0) = 1$$\n",
    "\n",
    "**Domain:**\n",
    "$$x \\in [0, 1]$$\n",
    "\n",
    "**Goal:**\n",
    "We want to approximate the function $\\psi(x)$ using a neural network."
   ]
  },
  {
   "cell_type": "markdown",
   "id": "b80348fd-b264-47e1-996f-d00215464992",
   "metadata": {},
   "source": [
    "## Step 1: Define the Trial Solution\n",
    "\n",
    "We follow the idea from the paper:\n",
    "\n",
    "$$\\psi_t(x) = 1 + x \\cdot N(x)$$\n",
    "\n",
    "This **automatically satisfies** the initial condition:\n",
    "\n",
    "* At $x = 0$, we get $\\psi_t(0) = 1 + 0 \\cdot N(0) = 1$ \n",
    "\n",
    "### Explanation:\n",
    "\n",
    "* The value `1` is fixed (matches the IC).\n",
    "* The network part `x · N(x)` is **0 at x=0**, so doesn't affect the boundary."
   ]
  },
  {
   "cell_type": "markdown",
   "id": "4609b8ad-3907-452e-940f-6ebd27fe7933",
   "metadata": {},
   "source": [
    "## Step 2: Neural Network N(x)\n",
    "\n",
    "We'll define a **simple feedforward neural network**:\n",
    "\n",
    "### Architecture:\n",
    "* **Input:** scalar $x$\n",
    "* **Hidden Layer:** 10 neurons (with sigmoid activation)\n",
    "* **Output Layer:** 1 neuron (linear activation)\n",
    "\n",
    "So mathematically:\n",
    "$$N(x) = \\sum_{j=1}^{10} w_{2j} \\cdot \\sigma(w_{1j}x + b_{1j}) + b_2$$\n",
    "\n",
    "### Activation Function\n",
    "We'll use the **sigmoid function**:\n",
    "$$\\sigma(z) = \\frac{1}{1 + e^{-z}}, \\quad \\sigma'(z) = \\sigma(z)(1 - \\sigma(z))$$"
   ]
  },
  {
   "cell_type": "code",
   "execution_count": 1,
   "id": "0cbc9cb4-086f-41e1-b683-6806e2ce07ae",
   "metadata": {},
   "outputs": [],
   "source": [
    "import numpy as np"
   ]
  },
  {
   "cell_type": "code",
   "execution_count": 2,
   "id": "90c0ce48-1333-4f7d-b384-ce7800b6a012",
   "metadata": {},
   "outputs": [],
   "source": [
    "def sigmoid(z):\n",
    "    return 1 / (1 + np.exp(-z))\n",
    "\n",
    "def d_sigmoid(z):\n",
    "    s = sigmoid(z)\n",
    "    return s * (1 - s)"
   ]
  },
  {
   "cell_type": "code",
   "execution_count": 3,
   "id": "ca26b112-9692-409c-a42f-02da6aa43562",
   "metadata": {},
   "outputs": [],
   "source": [
    "# Neural network with 1 hidden layer\n",
    "class NeuralNet:\n",
    "    def __init__(self, n_hidden = 20):\n",
    "        self.n_hidden = n_hidden\n",
    "        self.w1 = np.random.randn(n_hidden)   \n",
    "        self.b1 = np.random.randn(n_hidden)    \n",
    "        self.w2 = np.random.randn(n_hidden)    \n",
    "        self.b2 = np.random.randn(1)[0]        \n",
    "\n",
    "    def forward(self, x):\n",
    "        z = x @ self.w1.reshape(1, -1) + self.b1  \n",
    "        a = sigmoid(z)                            \n",
    "        y = a @ self.w2.reshape(-1, 1) + self.b2 \n",
    "        return y\n",
    "\n",
    "    def derivative(self, x):\n",
    "        z = x @ self.w1.reshape(1, -1) + self.b1  \n",
    "        dsig = d_sigmoid(z)                       \n",
    "        grad = dsig * self.w1                     \n",
    "        dNdx = grad @ self.w2.reshape(-1, 1)      \n",
    "        return dNdx"
   ]
  },
  {
   "cell_type": "markdown",
   "id": "dc602886-1a3c-44cf-b969-73ce3aa1a168",
   "metadata": {},
   "source": [
    "We have a functional neural network $N(x)$, that can compute:\n",
    "* The **value**: $N(x)$\n",
    "* The **derivative**: $\\frac{dN(x)}{dx}$\n",
    "\n",
    "And we are ready to construct the **trial solution**:\n",
    "\n",
    "$$\\psi_t(x) = 1 + x \\cdot N(x)$$\n",
    "\n",
    "And its derivative:\n",
    "\n",
    "$$\\frac{d\\psi_t}{dx} = N(x) + x \\cdot \\frac{dN(x)}{dx}$$"
   ]
  },
  {
   "cell_type": "markdown",
   "id": "c572f2a8-8d6c-46c2-b11e-3ceb9e1fdd74",
   "metadata": {},
   "source": [
    "# Construct the **Residual and Loss Function**\n",
    "\n",
    "We now build the core training logic: We compute how far the **trial solution** $\\psi_t(x) = 1 + x \\cdot N(x)$ is from satisfying the ODE:\n",
    "\n",
    "## ODE from the Paper\n",
    "\n",
    "$$\\frac{d\\psi}{dx} + \\left(x + \\frac{1 + 3x^2}{1 + x + x^3} \\right)\\psi = x^3 + 2x + x^2 \\cdot \\frac{1 + 3x^2}{1 + x + x^3}$$\n",
    "\n",
    "We write this in the general form:\n",
    "\n",
    "$$\\frac{d\\psi}{dx} = f(x, \\psi)$$\n",
    "\n",
    "Where:\n",
    "\n",
    "$$f(x, \\psi) = x^3 + 2x + x^2 \\cdot \\frac{1 + 3x^2}{1 + x + x^3} - \\left(x + \\frac{1 + 3x^2}{1 + x + x^3} \\right)\\cdot \\psi$$"
   ]
  },
  {
   "cell_type": "code",
   "execution_count": 4,
   "id": "478570a0-bba8-41c7-9b36-601b3200d29a",
   "metadata": {},
   "outputs": [],
   "source": [
    "def ode_rhs(x, psi):\n",
    "    x = x.reshape(-1, 1)\n",
    "    term = (1 + 3 * x**2) / (1 + x +\n",
    "                             x**3)\n",
    "    return x**3 + 2 * x + x**2 * term - (x + term) * psi"
   ]
  },
  {
   "cell_type": "markdown",
   "id": "cc2ca176-65c6-4262-887c-023a27a810aa",
   "metadata": {},
   "source": [
    "This defines the **right-hand side of the ODE**, which we are trying to solve"
   ]
  },
  {
   "cell_type": "code",
   "execution_count": 5,
   "id": "3e745b3c-2866-4ea0-9609-5390c07a94de",
   "metadata": {},
   "outputs": [],
   "source": [
    "# Trial solution\n",
    "def psi_trial(x, net):\n",
    "    \n",
    "    return 1 + x * net.forward(x)"
   ]
  },
  {
   "cell_type": "markdown",
   "id": "f2ca6956-dcdb-4f29-94c0-28054a533119",
   "metadata": {},
   "source": [
    "This defines the **trial solution to the ODE.**"
   ]
  },
  {
   "cell_type": "code",
   "execution_count": 6,
   "id": "c6957087-8940-4835-b693-9ec4128a1d46",
   "metadata": {},
   "outputs": [],
   "source": [
    "# Derivative of trial solution\n",
    "def d_psi_trial(x, net):\n",
    "    return net.forward(x) + x * net.derivative(x)"
   ]
  },
  {
   "cell_type": "markdown",
   "id": "0795cba4-ccb0-48ea-bc87-3fda6b1eb7ba",
   "metadata": {},
   "source": [
    "This uses the **product rule** to compute the derivative of the trial solution:\n",
    "\n",
    "$$\\psi_{\\text{trial}}(x) = 1 + x \\cdot N(x) \\Rightarrow \\frac{d\\psi_{\\text{trial}}}{dx} = N(x) + x \\cdot \\frac{dN}{dx}$$\n",
    "\n",
    "Where:\n",
    "* `net.forward(x)` gives $N(x)$\n",
    "* `net.derivative(x)` gives $\\frac{dN}{dx}$"
   ]
  },
  {
   "cell_type": "code",
   "execution_count": 7,
   "id": "c4630459-1fca-4f32-8c3e-7cd33ecfe953",
   "metadata": {},
   "outputs": [],
   "source": [
    "def residual(x, net):\n",
    "    psi = psi_trial(x, net)\n",
    "    dpsi = d_psi_trial(x, net)\n",
    "    return dpsi - ode_rhs(x, psi)"
   ]
  },
  {
   "cell_type": "markdown",
   "id": "b59064de-c432-4e91-be85-b4487af88e04",
   "metadata": {},
   "source": [
    "This calculates the **ODE residual**, i.e., the error between the LHS and RHS of the ODE"
   ]
  },
  {
   "cell_type": "code",
   "execution_count": 8,
   "id": "79287daf-be47-460a-b024-19e984e41c14",
   "metadata": {},
   "outputs": [],
   "source": [
    "# Loss function: mean squared residual error\n",
    "def loss_fn(x, net):\n",
    "    res = residual(x, net)\n",
    "    return np.mean(res**2)"
   ]
  },
  {
   "cell_type": "code",
   "execution_count": 9,
   "id": "59e5fb03-1987-432a-a362-d3efad063820",
   "metadata": {},
   "outputs": [],
   "source": [
    "x_train = np.linspace(0, 1, 10).reshape(-1, 1)\n",
    "# Create neural network\n",
    "nn = NeuralNet(n_hidden=10)"
   ]
  },
  {
   "cell_type": "code",
   "execution_count": 10,
   "id": "58610d52-2dec-4866-84b4-01d86538fa26",
   "metadata": {},
   "outputs": [
    {
     "name": "stdout",
     "output_type": "stream",
     "text": [
      "Initial loss: 27.392228393822116\n"
     ]
    }
   ],
   "source": [
    "print(\"Initial loss:\", loss_fn(x_train, nn))"
   ]
  },
  {
   "cell_type": "markdown",
   "id": "40f1de38-6ef7-49c9-8a03-953ad1b87e3c",
   "metadata": {},
   "source": [
    "# Step 4: Train the Neural Network Using Optimization (BFGS)\n",
    "\n",
    "We will **minimize the loss function** using `scipy.optimize.minimize`, specifically using the **BFGS** algorithm"
   ]
  },
  {
   "cell_type": "code",
   "execution_count": 11,
   "id": "425815f2-ac95-4309-9455-eeac97e3d80e",
   "metadata": {},
   "outputs": [],
   "source": [
    "def pack_params(net):\n",
    "    return np.concatenate([\n",
    "        net.w1.flatten(),\n",
    "        net.b1.flatten(),\n",
    "        net.w2.flatten(),\n",
    "        np.array([net.b2])\n",
    "    ])"
   ]
  },
  {
   "cell_type": "markdown",
   "id": "3a1b60d5-e5db-4c05-8750-e763bcad01e1",
   "metadata": {},
   "source": [
    "- Takes all the neural network's parameters and flattens them into a single 1D NumPy array.\n",
    "- This is required for optimizers that work with flat arrays rather than structured data."
   ]
  },
  {
   "cell_type": "code",
   "execution_count": 12,
   "id": "d6a82976-6703-4c6a-95d6-38dc40de1e11",
   "metadata": {},
   "outputs": [],
   "source": [
    "def unpack_params(net, params):\n",
    "    n = net.n_hidden\n",
    "    net.w1 = params[0:n]\n",
    "    net.b1 = params[n:2*n]\n",
    "    net.w2 = params[2*n:3*n]\n",
    "    net.b2 = params[3*n]"
   ]
  },
  {
   "cell_type": "markdown",
   "id": "e8cb2857-ffe8-4904-9cdf-07677d0d9f4a",
   "metadata": {},
   "source": [
    "Slices the 1D array params and assigns:\n",
    "\n",
    "- First n values to w1\n",
    "- Next n values to b1\n",
    "- Next n values to w2\n",
    "- Final value to b2"
   ]
  },
  {
   "cell_type": "markdown",
   "id": "09a77730-cf1e-4521-849d-b5b6de1a4b57",
   "metadata": {},
   "source": [
    "#### **Define the Objective Function**"
   ]
  },
  {
   "cell_type": "code",
   "execution_count": 13,
   "id": "047905eb-2e56-4476-bf5f-4a2035a906f0",
   "metadata": {},
   "outputs": [],
   "source": [
    "def objective(params, net, x_train):\n",
    "    unpack_params(net, params)\n",
    "    return loss_fn(x_train, net)"
   ]
  },
  {
   "cell_type": "markdown",
   "id": "225f8b9a-50e6-4952-8ef0-da822edd5406",
   "metadata": {},
   "source": [
    "#### **Optimize with scipy.optimize.minimize**"
   ]
  },
  {
   "cell_type": "code",
   "execution_count": 14,
   "id": "ec04c2ab-1194-4262-b41d-79f991c81a11",
   "metadata": {},
   "outputs": [],
   "source": [
    "from scipy.optimize import minimize\n",
    "\n",
    "# Training points (collocation)\n",
    "x_train = np.linspace(0, 1, 10).reshape(-1, 1)"
   ]
  },
  {
   "cell_type": "code",
   "execution_count": 15,
   "id": "6b607dbc-f093-4f56-abd4-2c0af7093cc7",
   "metadata": {},
   "outputs": [],
   "source": [
    "# Initialize network\n",
    "net = NeuralNet(n_hidden=20)\n",
    "params0 = pack_params(net)"
   ]
  },
  {
   "cell_type": "code",
   "execution_count": 16,
   "id": "bf5cf2d5-34b9-41d5-8728-6aad1f0137de",
   "metadata": {},
   "outputs": [
    {
     "name": "stdout",
     "output_type": "stream",
     "text": [
      "Optimization terminated successfully.\n",
      "         Current function value: 0.000003\n",
      "         Iterations: 61\n",
      "         Function evaluations: 4154\n",
      "         Gradient evaluations: 67\n"
     ]
    }
   ],
   "source": [
    "# Optimize using BFGS\n",
    "result = minimize(objective, params0, args=(net, x_train), method='BFGS', options={'disp': True, 'maxiter': 1000})"
   ]
  },
  {
   "cell_type": "code",
   "execution_count": 17,
   "id": "d2d9847c-6a89-4895-aba7-771c63785e74",
   "metadata": {},
   "outputs": [],
   "source": [
    "# Update network with optimized weights\n",
    "unpack_params(net, result.x)"
   ]
  },
  {
   "cell_type": "code",
   "execution_count": 18,
   "id": "bf178765-b1db-4ece-870c-945baf07126d",
   "metadata": {},
   "outputs": [
    {
     "name": "stdout",
     "output_type": "stream",
     "text": [
      "\n",
      "Final loss after training: 3.1780621880394393e-06\n"
     ]
    }
   ],
   "source": [
    "print(\"\\nFinal loss after training:\", loss_fn(x_train, net))"
   ]
  },
  {
   "cell_type": "markdown",
   "id": "3ebec987-3716-4a1a-b4dd-3431bccbf802",
   "metadata": {},
   "source": [
    "# **Step 5: Evaluate and Plot the Neural Network Solution vs Analytical Solution**\n",
    "\n",
    "## Exact Solution (from the paper):\n",
    "\n",
    "$$\\psi(x) = \\frac{e^{-x^2 / 2}}{1 + x + x^3} + x^2$$\n",
    "\n",
    "We'll compare this **ground truth** with the solution from our **trained ANN**, which is:\n",
    "\n",
    "$$\\psi_t(x) = 1 + x \\cdot N(x)$$"
   ]
  },
  {
   "cell_type": "code",
   "execution_count": 19,
   "id": "7959586e-a4e6-4209-9092-6bb9e92971c6",
   "metadata": {},
   "outputs": [],
   "source": [
    "import matplotlib.pyplot as plt"
   ]
  },
  {
   "cell_type": "markdown",
   "id": "60b0d51b-e98d-4258-aad0-ecc3309017fb",
   "metadata": {},
   "source": [
    "#### **Exact Solution**"
   ]
  },
  {
   "cell_type": "code",
   "execution_count": 20,
   "id": "3b6a9ce1-8379-4ed9-9d20-26c4561ac01c",
   "metadata": {},
   "outputs": [],
   "source": [
    "def exact_solution(x):\n",
    "    return np.exp(-x**2 / 2) / (1 + x + x**3) + x**2"
   ]
  },
  {
   "cell_type": "markdown",
   "id": "7949dc3f-ff5b-4b42-bed4-069611ae49f4",
   "metadata": {},
   "source": [
    "#### **Generate test points**"
   ]
  },
  {
   "cell_type": "code",
   "execution_count": 21,
   "id": "7d465597-19e1-4b4d-a81c-24d1c1c12697",
   "metadata": {},
   "outputs": [],
   "source": [
    "x_test = np.linspace(0, 1.2, 200).reshape(-1, 1)\n",
    "psi_ann = psi_trial(x_test, net).flatten()\n",
    "psi_exact = exact_solution(x_test).flatten()"
   ]
  },
  {
   "cell_type": "code",
   "execution_count": 22,
   "id": "46894190-b818-4938-bcaa-4b88c64915b9",
   "metadata": {},
   "outputs": [
    {
     "data": {
      "image/png": "[encoded data removed]",
      "text/plain": [
       "<Figure size 1000x600 with 1 Axes>"
      ]
     },
     "metadata": {},
     "output_type": "display_data"
    }
   ],
   "source": [
    "plt.figure(figsize=(10, 6))\n",
    "plt.plot(x_test, psi_exact, label='Exact Solution', linewidth=3)\n",
    "plt.plot(x_test, psi_ann, '--', label='Neural Network Approximation', linewidth=3)\n",
    "plt.xlabel('x')\n",
    "plt.ylabel('ψ(x)')\n",
    "plt.title('Solution of ODE using ANN vs Analytical Solution')\n",
    "plt.grid(True)\n",
    "plt.legend()\n",
    "plt.savefig(\"problem1_ann_vs_exact.png\", dpi=300)\n",
    "\n",
    "plt.show()"
   ]
  },
  {
   "cell_type": "markdown",
   "id": "2da340e1-a0c6-4ebd-b4d8-3bf9eebab48b",
   "metadata": {},
   "source": [
    "# Problem 2 \n",
    "\n",
    "## Given ODE:\n",
    "\n",
    "$$\\frac{d\\Psi}{dx} + \\frac{1}{5} \\Psi = e^{-x/5} \\cos(x)$$\n",
    "\n",
    "## Initial Condition:\n",
    "\n",
    "$$\\Psi(0) = 0$$\n",
    "\n",
    "## Exact Solution (as given in the paper):\n",
    "\n",
    "$$\\Psi(x) = e^{-x/5} \\sin(x)$$"
   ]
  },
  {
   "cell_type": "markdown",
   "id": "19ad1711-a800-4096-aa78-00fd56859111",
   "metadata": {},
   "source": [
    "## Step 1: Trial Solution\n",
    "\n",
    "Since $\\Psi(0) = 0$, we define:\n",
    "\n",
    "$$\\Psi_t(x) = x \\cdot N(x)$$"
   ]
  },
  {
   "cell_type": "markdown",
   "id": "3922e23e-374c-4ade-b57d-b06ee238650f",
   "metadata": {},
   "source": [
    "## Step 2: Build Neural Network"
   ]
  },
  {
   "cell_type": "code",
   "execution_count": 23,
   "id": "3dafc098-80b9-482b-b419-0117c8474ef9",
   "metadata": {},
   "outputs": [],
   "source": [
    "import numpy as np\n",
    "\n",
    "def sigmoid(x): return 1 / (1 + np.exp(-x))\n",
    "def d_sigmoid(x): s = sigmoid(x); return s * (1 - s)\n",
    "\n",
    "class NeuralNet:\n",
    "    def __init__(self, n_hidden=10):\n",
    "        self.n_hidden = n_hidden\n",
    "        self.w1 = np.random.randn(n_hidden)\n",
    "        self.b1 = np.random.randn(n_hidden)\n",
    "        self.w2 = np.random.randn(n_hidden)\n",
    "        self.b2 = np.random.randn(1)[0]\n",
    "\n",
    "    def forward(self, x):\n",
    "        z = x @ self.w1.reshape(1, -1) + self.b1\n",
    "        a = sigmoid(z)\n",
    "        return a @ self.w2.reshape(-1, 1) + self.b2\n",
    "\n",
    "    def derivative(self, x):\n",
    "        z = x @ self.w1.reshape(1, -1) + self.b1\n",
    "        da_dx = d_sigmoid(z) * self.w1\n",
    "        return da_dx @ self.w2.reshape(-1, 1)"
   ]
  },
  {
   "cell_type": "markdown",
   "id": "4c5bec1a-a122-47b3-9d90-c0dd0914638f",
   "metadata": {
    "jp-MarkdownHeadingCollapsed": true
   },
   "source": [
    "## Step 3: Trial Solution & Derivative"
   ]
  },
  {
   "cell_type": "code",
   "execution_count": 24,
   "id": "f79534d8-599f-46cd-90c7-6930bf84de77",
   "metadata": {},
   "outputs": [],
   "source": [
    "def psi_trial(x, net):\n",
    "    return x * net.forward(x)\n",
    "\n",
    "def d_psi_trial(x, net):\n",
    "    return net.forward(x) + x * net.derivative(x)"
   ]
  },
  {
   "cell_type": "markdown",
   "id": "eefe8c3a-0c4b-41ea-bf1e-4b70b8896156",
   "metadata": {},
   "source": [
    "## Step 4: Define ODE Residual and Loss\n",
    "\n",
    "$$\\text{Residual} = \\frac{d\\Psi_t}{dx} + \\frac{1}{5} \\Psi_t - e^{-x/5} \\cos(x)$$"
   ]
  },
  {
   "cell_type": "code",
   "execution_count": 25,
   "id": "3baca0e5-3439-433b-80a4-ec7cbfab85a2",
   "metadata": {},
   "outputs": [],
   "source": [
    "def ode_rhs(x):\n",
    "    return np.exp(-x / 5) * np.cos(x)"
   ]
  },
  {
   "cell_type": "code",
   "execution_count": 26,
   "id": "8a02b8b5-fdb6-4e10-88ff-1dd6025370c1",
   "metadata": {},
   "outputs": [],
   "source": [
    "def residual(x, net):\n",
    "    psi = psi_trial(x, net)\n",
    "    dpsi = d_psi_trial(x, net)\n",
    "    return dpsi + (1/5) * psi - ode_rhs(x)"
   ]
  },
  {
   "cell_type": "code",
   "execution_count": 27,
   "id": "92174e7f-2351-4a7b-98e2-69b556a3ce55",
   "metadata": {},
   "outputs": [],
   "source": [
    "def loss_fn(x, net):\n",
    "    return np.mean(residual(x, net)**2)"
   ]
  },
  {
   "cell_type": "markdown",
   "id": "1515e078-8548-4e0c-85ed-a2d8d6346d55",
   "metadata": {},
   "source": [
    "## Step 5: Optimization"
   ]
  },
  {
   "cell_type": "code",
   "execution_count": 28,
   "id": "8660aa11-c0d4-4f9e-9d53-6e0b48565a82",
   "metadata": {},
   "outputs": [],
   "source": [
    "def pack_params(net):\n",
    "    return np.concatenate([net.w1, net.b1, net.w2, np.array([net.b2])])\n",
    "\n",
    "def unpack_params(net, params):\n",
    "    n = net.n_hidden\n",
    "    net.w1 = params[:n]\n",
    "    net.b1 = params[n:2*n]\n",
    "    net.w2 = params[2*n:3*n]\n",
    "    net.b2 = params[3*n]\n",
    "\n",
    "def objective(params, net, x_train):\n",
    "    unpack_params(net, params)\n",
    "    return loss_fn(x_train, net)"
   ]
  },
  {
   "cell_type": "code",
   "execution_count": 29,
   "id": "132f410b-3599-4b42-9062-3dcab45f898b",
   "metadata": {},
   "outputs": [],
   "source": [
    "x_train = np.linspace(0, np.pi, 50).reshape(-1, 1) \n",
    "net = NeuralNet(n_hidden=10)\n",
    "params0 = pack_params(net)"
   ]
  },
  {
   "cell_type": "code",
   "execution_count": 30,
   "id": "2da460f4-42a0-47e8-9062-ab52a567c0af",
   "metadata": {},
   "outputs": [
    {
     "name": "stdout",
     "output_type": "stream",
     "text": [
      "Optimization terminated successfully.\n",
      "         Current function value: 0.000001\n",
      "         Iterations: 206\n",
      "         Function evaluations: 7584\n",
      "         Gradient evaluations: 237\n",
      "Final Loss: 5.287538671428919e-07\n"
     ]
    }
   ],
   "source": [
    "res = minimize(objective, params0, args=(net, x_train),\n",
    "               method='BFGS', options={'disp': True, 'maxiter': 3000})\n",
    "unpack_params(net, res.x)\n",
    "print(\"Final Loss:\", loss_fn(x_train, net))"
   ]
  },
  {
   "cell_type": "code",
   "execution_count": 31,
   "id": "9acea41c-0587-4497-9aa1-df4120d32429",
   "metadata": {},
   "outputs": [],
   "source": [
    "def exact_solution(x):\n",
    "    return np.exp(-x / 5) * np.sin(x)\n",
    "\n",
    "x_test = np.linspace(0, np.pi, 200).reshape(-1, 1)\n",
    "psi_pred = psi_trial(x_test, net).flatten()\n",
    "psi_true = exact_solution(x_test).flatten()"
   ]
  },
  {
   "cell_type": "code",
   "execution_count": 32,
   "id": "76ae6ecb-b227-4d9f-bea3-45be2aa2dfd5",
   "metadata": {},
   "outputs": [
    {
     "data": {
      "image/png": "[encoded data removed]",
      "text/plain": [
       "<Figure size 1000x600 with 1 Axes>"
      ]
     },
     "metadata": {},
     "output_type": "display_data"
    }
   ],
   "source": [
    "plt.figure(figsize=(10, 6))\n",
    "plt.plot(x_test, psi_true, label='Exact Solution', linewidth=2)\n",
    "plt.plot(x_test, psi_pred, '--', label='Neural Network', linewidth=2)\n",
    "plt.xlabel(\"x\")\n",
    "plt.ylabel(\"ψ(x)\")\n",
    "plt.title(\"Problem 2: ANN vs Analytical Solution\")\n",
    "plt.grid(True)\n",
    "plt.legend()\n",
    "plt.show()"
   ]
  },
  {
   "cell_type": "markdown",
   "id": "81421987-9d51-4889-a288-818d35258027",
   "metadata": {},
   "source": [
    "# Problem 3 \n",
    "\n",
    "## Given ODE:\n",
    "\n",
    "$$\\frac{d^2\\Psi}{dx^2} + \\frac{1}{5} \\frac{d\\Psi}{dx} + \\Psi = -\\frac{1}{5} e^{-x/5} \\cos(x)$$\n",
    "\n",
    "## Initial Conditions:\n",
    "\n",
    "$$\\Psi(0) = 0, \\quad \\frac{d\\Psi}{dx}(0) = 1$$\n",
    "\n",
    "## Exact Solution:\n",
    "\n",
    "$$\\Psi(x) = e^{-x/5} \\sin(x)$$"
   ]
  },
  {
   "cell_type": "markdown",
   "id": "4a09047d-aeac-46af-b075-f81a09740de4",
   "metadata": {},
   "source": [
    "## Step 1: Trial Solution\n",
    "\n",
    "We want:\n",
    "* $\\Psi(0) = 0$\n",
    "* $\\Psi'(0) = 1$\n",
    "\n",
    "Use this trial solution from the paper:\n",
    "\n",
    "$$\\Psi_t(x) = x + x^2 \\cdot N(x)$$"
   ]
  },
  {
   "cell_type": "markdown",
   "id": "8023c96d-1114-40ea-8f8e-b9b1b11ad727",
   "metadata": {},
   "source": [
    "## Step 2: Build Neural Network 𝑁(𝑥)"
   ]
  },
  {
   "cell_type": "code",
   "execution_count": 33,
   "id": "94353936-c803-42ea-bc2f-d94cf66b2673",
   "metadata": {},
   "outputs": [],
   "source": [
    "class NeuralNet:\n",
    "    def __init__(self, n_hidden=10):\n",
    "        self.n_hidden = n_hidden\n",
    "        self.w1 = np.random.randn(n_hidden)\n",
    "        self.b1 = np.random.randn(n_hidden)\n",
    "        self.w2 = np.random.randn(n_hidden)\n",
    "        self.b2 = np.random.randn(1)[0]\n",
    "\n",
    "    def forward(self, x):\n",
    "        z = x @ self.w1.reshape(1, -1) + self.b1\n",
    "        a = sigmoid(z)\n",
    "        return a @ self.w2.reshape(-1, 1) + self.b2\n",
    "\n",
    "    def derivative(self, x):\n",
    "        z = x @ self.w1.reshape(1, -1) + self.b1\n",
    "        dz_dx = d_sigmoid(z) * self.w1\n",
    "        return dz_dx @ self.w2.reshape(-1, 1)\n",
    "\n",
    "    def second_derivative(self, x):\n",
    "        z = x @ self.w1.reshape(1, -1) + self.b1\n",
    "        s = sigmoid(z)\n",
    "        d2z_dx2 = d_sigmoid(z) * (1 - 2 * s) * self.w1**2\n",
    "        return d2z_dx2 @ self.w2.reshape(-1, 1)"
   ]
  },
  {
   "cell_type": "markdown",
   "id": "073cf5b6-da93-4095-954f-2159a2e0ecbb",
   "metadata": {},
   "source": [
    "## Step 3: Trial Solution and Derivatives\n",
    "\n",
    "$$\\Psi_t(x) = x + x^2 N(x)$$\n",
    "\n",
    "$$\\Psi_t'(x) = 1 + 2xN(x) + x^2 N'(x)$$\n",
    "\n",
    "$$\\Psi_t''(x) = 2N(x) + 4xN'(x) + x^2 N''(x)$$"
   ]
  },
  {
   "cell_type": "code",
   "execution_count": 34,
   "id": "a3bc372b-53db-4deb-abb3-a2eaa1e3d74d",
   "metadata": {},
   "outputs": [],
   "source": [
    "def psi_trial(x, net):\n",
    "    return x + x**2 * net.forward(x)"
   ]
  },
  {
   "cell_type": "code",
   "execution_count": 35,
   "id": "8e99e935-f334-4f05-91c4-11ccb8abdc87",
   "metadata": {},
   "outputs": [],
   "source": [
    "def d_psi_trial(x, net):\n",
    "    return 1 + 2 * x * net.forward(x) + x**2 * net.derivative(x)"
   ]
  },
  {
   "cell_type": "code",
   "execution_count": 36,
   "id": "b855959f-ede8-473c-a1e9-64006ecd31ef",
   "metadata": {},
   "outputs": [],
   "source": [
    "def d2_psi_trial(x, net):\n",
    "    return 2 * net.forward(x) + 4 * x * net.derivative(x) + x**2 * net.second_derivative(x)"
   ]
  },
  {
   "cell_type": "markdown",
   "id": "30d9232a-7950-4841-bf2f-d48b9a00b809",
   "metadata": {},
   "source": [
    "## Step 4: Define the ODE Residual and Loss\n",
    "\n",
    "The ODE is:\n",
    "\n",
    "$$\\Psi''(x) + \\frac{1}{5} \\Psi'(x) + \\Psi(x) = -\\frac{1}{5} e^{-x/5} \\cos(x)$$\n",
    "\n",
    "So residual:\n",
    "\n",
    "$$R(x) = \\Psi_t''(x) + \\frac{1}{5} \\Psi_t'(x) + \\Psi_t(x) + \\frac{1}{5} e^{-x/5} \\cos(x)$$"
   ]
  },
  {
   "cell_type": "code",
   "execution_count": 37,
   "id": "557bc606-43eb-4f30-a7ff-e98c8a1c18b8",
   "metadata": {},
   "outputs": [],
   "source": [
    "def ode_rhs(x):\n",
    "    return - (1/5) * np.exp(-x / 5) * np.cos(x)"
   ]
  },
  {
   "cell_type": "code",
   "execution_count": 38,
   "id": "3bda062f-56ac-489a-8dcb-743b2eec46f8",
   "metadata": {},
   "outputs": [],
   "source": [
    "def residual(x, net):\n",
    "    psi = psi_trial(x, net)\n",
    "    dpsi = d_psi_trial(x, net)\n",
    "    d2psi = d2_psi_trial(x, net)\n",
    "    return d2psi + (1/5) * dpsi + psi - ode_rhs(x)"
   ]
  },
  {
   "cell_type": "code",
   "execution_count": 39,
   "id": "1eaa8744-1bc8-485c-83b0-3c04e1b541ae",
   "metadata": {},
   "outputs": [],
   "source": [
    "def loss_fn(x, net):\n",
    "    return np.mean(residual(x, net)**2)"
   ]
  },
  {
   "cell_type": "markdown",
   "id": "ea218e8f-af15-4c5d-9d83-3fdf2482ebd6",
   "metadata": {},
   "source": [
    "## Step 5: Optimization and Plot"
   ]
  },
  {
   "cell_type": "code",
   "execution_count": 40,
   "id": "0fde3d35-adb1-42b6-a239-7dd56178911e",
   "metadata": {},
   "outputs": [],
   "source": [
    "def pack_params(net):\n",
    "    return np.concatenate([net.w1, net.b1, net.w2, [net.b2]])\n",
    "\n",
    "def unpack_params(net, params):\n",
    "    n = net.n_hidden\n",
    "    net.w1 = params[:n]\n",
    "    net.b1 = params[n:2*n]\n",
    "    net.w2 = params[2*n:3*n]\n",
    "    net.b2 = params[3*n]\n",
    "\n",
    "def objective(params, net, x_train):\n",
    "    unpack_params(net, params)\n",
    "    return loss_fn(x_train, net)"
   ]
  },
  {
   "cell_type": "code",
   "execution_count": 41,
   "id": "24e03464-5eaf-4d9c-9932-4b6fa4c911b4",
   "metadata": {},
   "outputs": [],
   "source": [
    "x_train = np.linspace(0, np.pi, 50).reshape(-1, 1)"
   ]
  },
  {
   "cell_type": "code",
   "execution_count": 42,
   "id": "8d23a312-ebb8-4e78-90ef-d81770cf0235",
   "metadata": {},
   "outputs": [],
   "source": [
    "net = NeuralNet(n_hidden=10)\n",
    "params0 = pack_params(net)"
   ]
  },
  {
   "cell_type": "code",
   "execution_count": 43,
   "id": "7b4ddc01-4041-4dff-be9b-84645dc4dac3",
   "metadata": {},
   "outputs": [
    {
     "name": "stdout",
     "output_type": "stream",
     "text": [
      "Optimization terminated successfully.\n",
      "         Current function value: 0.000001\n",
      "         Iterations: 73\n",
      "         Function evaluations: 2592\n",
      "         Gradient evaluations: 81\n",
      "Final Loss: 5.547622086612796e-07\n"
     ]
    }
   ],
   "source": [
    "res = minimize(objective, params0, args=(net, x_train),\n",
    "               method='BFGS', options={'disp': True, 'maxiter': 1000})\n",
    "unpack_params(net, res.x)\n",
    "print(\"Final Loss:\", loss_fn(x_train, net))"
   ]
  },
  {
   "cell_type": "markdown",
   "id": "bd1b6740-cc95-4fa8-86d1-4b3894d24951",
   "metadata": {},
   "source": [
    "**Exact Solution**"
   ]
  },
  {
   "cell_type": "code",
   "execution_count": 44,
   "id": "7bee3c4a-ab92-4a07-af49-ed2b36f69dc5",
   "metadata": {},
   "outputs": [],
   "source": [
    "def exact_solution(x):\n",
    "    return np.exp(-x / 5) * np.sin(x)"
   ]
  },
  {
   "cell_type": "code",
   "execution_count": 45,
   "id": "a56ead05-b88e-4acd-9257-cd5c2dcada25",
   "metadata": {},
   "outputs": [],
   "source": [
    "x_test = np.linspace(0, np.pi, 200).reshape(-1, 1)\n",
    "psi_pred = psi_trial(x_test, net).flatten()\n",
    "psi_true = exact_solution(x_test).flatten()"
   ]
  },
  {
   "cell_type": "code",
   "execution_count": 46,
   "id": "5ed5313a-fcfa-459d-be66-aea7bea9152e",
   "metadata": {},
   "outputs": [
    {
     "data": {
      "image/png": "[encoded data removed]",
      "text/plain": [
       "<Figure size 1000x600 with 1 Axes>"
      ]
     },
     "metadata": {},
     "output_type": "display_data"
    }
   ],
   "source": [
    "plt.figure(figsize=(10, 6))\n",
    "plt.plot(x_test, psi_true, label='Exact Solution', linewidth=2)\n",
    "plt.plot(x_test, psi_pred, '--', label='Neural Network', linewidth=2)\n",
    "plt.xlabel('x')\n",
    "plt.ylabel('ψ(x)')\n",
    "plt.title('Problem 3: ANN vs Analytical Solution')\n",
    "plt.grid(True)\n",
    "plt.legend()\n",
    "plt.show()"
   ]
  },
  {
   "cell_type": "code",
   "execution_count": null,
   "id": "cdd14cf6-6d8e-4ce1-90eb-7a349e5d7312",
   "metadata": {},
   "outputs": [],
   "source": []
  },
  {
   "cell_type": "code",
   "execution_count": null,
   "id": "aa9187c0-8c57-4a0d-8ba5-e2fb4ae552fb",
   "metadata": {},
   "outputs": [],
   "source": []
  }
 ],
 "metadata": {
  "kernelspec": {
   "display_name": "yourenvironment",
   "language": "python",
   "name": "yourenvironment"
  },
  "language_info": {
   "codemirror_mode": {
    "name": "ipython",
    "version": 3
   },
   "file_extension": ".py",
   "mimetype": "text/x-python",
   "name": "python",
   "nbconvert_exporter": "python",
   "pygments_lexer": "ipython3",
   "version": "3.12.7"
  }
 },
 "nbformat": 4,
 "nbformat_minor": 5
}
